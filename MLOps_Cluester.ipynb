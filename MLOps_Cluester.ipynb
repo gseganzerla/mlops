{
  "cells": [
    {
      "cell_type": "code",
      "execution_count": 31,
      "metadata": {
        "id": "BtVxmbpt79RM"
      },
      "outputs": [],
      "source": [
        "import pandas as pd\n",
        "import numpy as np\n",
        "import seaborn as sns\n",
        "import matplotlib.pyplot as plt\n",
        "import joblib\n",
        "\n",
        "from sklearn.pipeline import Pipeline\n",
        "from sklearn.compose import ColumnTransformer\n",
        "from sklearn.impute import SimpleImputer\n",
        "from sklearn.cluster import KMeans\n",
        "from sklearn.preprocessing import LabelEncoder\n",
        "from sklearn.preprocessing import OneHotEncoder, StandardScaler"
      ]
    },
    {
      "cell_type": "markdown",
      "metadata": {
        "id": "YPXMwck8_1QH"
      },
      "source": [
        "## Carregando tratando a base de dados"
      ]
    },
    {
      "cell_type": "code",
      "execution_count": 32,
      "metadata": {
        "id": "sy5mSTx2-jr1"
      },
      "outputs": [],
      "source": [
        "df = pd.read_csv(\"loan_default.csv\")"
      ]
    },
    {
      "cell_type": "code",
      "execution_count": 33,
      "metadata": {
        "id": "RT-m4MCmNlSy"
      },
      "outputs": [],
      "source": [
        "# Definindo variáveis qualitativas e quantitativas\n",
        "categorical_features = ['loan_limit', 'approv_in_adv', 'Gender', 'loan_type', 'loan_purpose', 'Credit_Worthiness', 'open_credit', 'business_or_commercial', 'Neg_ammortization','interest_only', 'lump_sum_payment', 'construction_type', 'occupancy_type', 'Secured_by', 'total_units', 'credit_type', 'co_applicant_credit_type', 'age', 'submission_of_application', 'Region', 'Security_Type']\n",
        "numeric_features = ['loan_amount', 'rate_of_interest', 'Interest_rate_spread', 'Upfront_charges', 'term', 'property_value', 'income', 'Credit_Score', 'LTV', 'dtir1']"
      ]
    },
    {
      "cell_type": "code",
      "execution_count": 34,
      "metadata": {
        "id": "_2RYZJAROgDc"
      },
      "outputs": [],
      "source": [
        "# Crie o pipeline para pré-processamento\n",
        "categorical_transformer = Pipeline(steps=[\n",
        "    ('imputer', SimpleImputer(strategy='most_frequent')),\n",
        "    ('onehot', OneHotEncoder(drop='first'))\n",
        "])"
      ]
    },
    {
      "cell_type": "code",
      "execution_count": 35,
      "metadata": {
        "id": "xNCUARaeHrln"
      },
      "outputs": [],
      "source": [
        "numeric_transformer = Pipeline(steps=[\n",
        "    ('imputer', SimpleImputer(strategy='median')),\n",
        "    ('scaler', StandardScaler())\n",
        "])"
      ]
    },
    {
      "cell_type": "code",
      "execution_count": 36,
      "metadata": {
        "id": "55Ggr0WtHxJw"
      },
      "outputs": [],
      "source": [
        "preprocessor = ColumnTransformer(\n",
        "    transformers=[\n",
        "        ('cat', categorical_transformer, categorical_features),\n",
        "        ('num', numeric_transformer, numeric_features)\n",
        "    ])"
      ]
    },
    {
      "cell_type": "markdown",
      "metadata": {
        "id": "L7HTSKomNJYz"
      },
      "source": [
        "## Treinando o modelo"
      ]
    },
    {
      "cell_type": "code",
      "execution_count": 37,
      "metadata": {
        "id": "tM0mMrfpOgAD"
      },
      "outputs": [],
      "source": [
        "model = Pipeline(steps=[\n",
        "    ('preprocessor', preprocessor),\n",
        "    ('classifier', KMeans(n_clusters=3, random_state=42) )\n",
        "])"
      ]
    },
    {
      "cell_type": "code",
      "execution_count": 38,
      "metadata": {
        "colab": {
          "base_uri": "https://localhost:8080/"
        },
        "id": "EJGyMtNRH9G-",
        "outputId": "80683ea6-91dc-451b-ab70-b7f8881e3cf2"
      },
      "outputs": [
        {
          "name": "stdout",
          "output_type": "stream",
          "text": [
            "[1 1 0 ... 0 0 0]\n"
          ]
        }
      ],
      "source": [
        "grupo = model.fit_predict(df)\n",
        "\n",
        "print(grupo)"
      ]
    },
    {
      "cell_type": "code",
      "execution_count": 39,
      "metadata": {},
      "outputs": [
        {
          "data": {
            "text/plain": [
              "['propensao_inadimplencia_clusterization.joblib']"
            ]
          },
          "execution_count": 39,
          "metadata": {},
          "output_type": "execute_result"
        }
      ],
      "source": [
        "joblib.dump(model, 'propensao_inadimplencia_clusterization.joblib')"
      ]
    },
    {
      "cell_type": "markdown",
      "metadata": {
        "id": "PtT_J63_NSZC"
      },
      "source": [
        "## Criano Persona e verificando média de risco"
      ]
    },
    {
      "cell_type": "code",
      "execution_count": 40,
      "metadata": {
        "id": "jTApQP3RH8Fd"
      },
      "outputs": [],
      "source": [
        "# Adicionar uma nova coluna 'Grupo' ao dataframe original com os rótulos dos clusters\n",
        "df['Grupo'] = grupo"
      ]
    },
    {
      "cell_type": "code",
      "execution_count": 41,
      "metadata": {
        "colab": {
          "base_uri": "https://localhost:8080/"
        },
        "id": "iQDjjBAcISF_",
        "outputId": "a15aa5c5-f996-4af3-c86b-e4efaabc27ac"
      },
      "outputs": [
        {
          "data": {
            "text/plain": [
              "16.988319654911628"
            ]
          },
          "execution_count": 41,
          "metadata": {},
          "output_type": "execute_result"
        }
      ],
      "source": [
        "# persona: Baixo risco de fraude\n",
        "df[df['Grupo'] == 0]['Status'].mean()*100"
      ]
    },
    {
      "cell_type": "code",
      "execution_count": 42,
      "metadata": {
        "colab": {
          "base_uri": "https://localhost:8080/"
        },
        "id": "omH4M6XsI288",
        "outputId": "6052eb82-b798-45f6-d829-d84b544a3b5a"
      },
      "outputs": [
        {
          "data": {
            "text/plain": [
              "36.14762522990371"
            ]
          },
          "execution_count": 42,
          "metadata": {},
          "output_type": "execute_result"
        }
      ],
      "source": [
        "# persona: médio risco de fraude\n",
        "df[df['Grupo'] == 1]['Status'].mean()*100"
      ]
    },
    {
      "cell_type": "code",
      "execution_count": 43,
      "metadata": {
        "colab": {
          "base_uri": "https://localhost:8080/"
        },
        "id": "fiYXqWXWI2k7",
        "outputId": "093f39f4-780c-4f4d-af7e-fd71b78aae85"
      },
      "outputs": [
        {
          "data": {
            "text/plain": [
              "9.852658552210123"
            ]
          },
          "execution_count": 43,
          "metadata": {},
          "output_type": "execute_result"
        }
      ],
      "source": [
        "# persona: alto risco de fraude\n",
        "df[df['Grupo'] == 2]['Status'].mean()*100"
      ]
    }
  ],
  "metadata": {
    "colab": {
      "provenance": []
    },
    "kernelspec": {
      "display_name": "Python 3",
      "name": "python3"
    },
    "language_info": {
      "codemirror_mode": {
        "name": "ipython",
        "version": 3
      },
      "file_extension": ".py",
      "mimetype": "text/x-python",
      "name": "python",
      "nbconvert_exporter": "python",
      "pygments_lexer": "ipython3",
      "version": "3.12.1"
    }
  },
  "nbformat": 4,
  "nbformat_minor": 0
}
