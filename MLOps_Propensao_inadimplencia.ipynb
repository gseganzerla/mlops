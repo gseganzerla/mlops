{
  "cells": [
    {
      "cell_type": "code",
      "execution_count": 73,
      "metadata": {
        "id": "D1uX9fLxArEr"
      },
      "outputs": [],
      "source": [
        "import pandas as pd\n",
        "import plotly.express as px\n",
        "import seaborn as sns\n",
        "import numpy as np\n",
        "import matplotlib.pyplot as plt\n",
        "import joblib\n",
        "\n",
        "from sklearn.impute import SimpleImputer\n",
        "\n",
        "from sklearn.pipeline import Pipeline\n",
        "from sklearn.compose import ColumnTransformer\n",
        "from sklearn.linear_model import LogisticRegression\n",
        "from sklearn.preprocessing import LabelEncoder\n",
        "from sklearn.preprocessing import OneHotEncoder, StandardScaler\n",
        "from imblearn.over_sampling import SMOTE\n",
        "from sklearn.model_selection import train_test_split\n",
        "from sklearn.feature_selection import RFECV\n",
        "from sklearn.metrics import confusion_matrix, ConfusionMatrixDisplay, classification_report, roc_curve, auc, roc_auc_score"
      ]
    },
    {
      "cell_type": "markdown",
      "metadata": {
        "id": "_Y5tcfNVEfeX"
      },
      "source": [
        "## Carregando e analisando a base de dados"
      ]
    },
    {
      "cell_type": "code",
      "execution_count": 74,
      "metadata": {
        "colab": {
          "base_uri": "https://localhost:8080/",
          "height": 617
        },
        "id": "CSDi8XcFArEu",
        "outputId": "ab6ddfbb-ed4e-4594-a49a-db5cbeba642c"
      },
      "outputs": [
        {
          "data": {
            "text/html": [
              "<div>\n",
              "<style scoped>\n",
              "    .dataframe tbody tr th:only-of-type {\n",
              "        vertical-align: middle;\n",
              "    }\n",
              "\n",
              "    .dataframe tbody tr th {\n",
              "        vertical-align: top;\n",
              "    }\n",
              "\n",
              "    .dataframe thead th {\n",
              "        text-align: right;\n",
              "    }\n",
              "</style>\n",
              "<table border=\"1\" class=\"dataframe\">\n",
              "  <thead>\n",
              "    <tr style=\"text-align: right;\">\n",
              "      <th></th>\n",
              "      <th>ID</th>\n",
              "      <th>year</th>\n",
              "      <th>loan_limit</th>\n",
              "      <th>Gender</th>\n",
              "      <th>approv_in_adv</th>\n",
              "      <th>loan_type</th>\n",
              "      <th>loan_purpose</th>\n",
              "      <th>Credit_Worthiness</th>\n",
              "      <th>open_credit</th>\n",
              "      <th>business_or_commercial</th>\n",
              "      <th>...</th>\n",
              "      <th>credit_type</th>\n",
              "      <th>Credit_Score</th>\n",
              "      <th>co_applicant_credit_type</th>\n",
              "      <th>age</th>\n",
              "      <th>submission_of_application</th>\n",
              "      <th>LTV</th>\n",
              "      <th>Region</th>\n",
              "      <th>Security_Type</th>\n",
              "      <th>Status</th>\n",
              "      <th>dtir1</th>\n",
              "    </tr>\n",
              "  </thead>\n",
              "  <tbody>\n",
              "    <tr>\n",
              "      <th>0</th>\n",
              "      <td>24891</td>\n",
              "      <td>2019</td>\n",
              "      <td>cf</td>\n",
              "      <td>Male</td>\n",
              "      <td>nopre</td>\n",
              "      <td>type2</td>\n",
              "      <td>p1</td>\n",
              "      <td>l1</td>\n",
              "      <td>nopc</td>\n",
              "      <td>b/c</td>\n",
              "      <td>...</td>\n",
              "      <td>EQUI</td>\n",
              "      <td>552</td>\n",
              "      <td>EXP</td>\n",
              "      <td>55-64</td>\n",
              "      <td>to_inst</td>\n",
              "      <td>NaN</td>\n",
              "      <td>North</td>\n",
              "      <td>direct</td>\n",
              "      <td>1</td>\n",
              "      <td>NaN</td>\n",
              "    </tr>\n",
              "    <tr>\n",
              "      <th>1</th>\n",
              "      <td>24932</td>\n",
              "      <td>2019</td>\n",
              "      <td>cf</td>\n",
              "      <td>Male</td>\n",
              "      <td>nopre</td>\n",
              "      <td>type3</td>\n",
              "      <td>p4</td>\n",
              "      <td>l1</td>\n",
              "      <td>nopc</td>\n",
              "      <td>nob/c</td>\n",
              "      <td>...</td>\n",
              "      <td>EQUI</td>\n",
              "      <td>765</td>\n",
              "      <td>EXP</td>\n",
              "      <td>45-54</td>\n",
              "      <td>to_inst</td>\n",
              "      <td>NaN</td>\n",
              "      <td>North</td>\n",
              "      <td>direct</td>\n",
              "      <td>1</td>\n",
              "      <td>NaN</td>\n",
              "    </tr>\n",
              "    <tr>\n",
              "      <th>2</th>\n",
              "      <td>25039</td>\n",
              "      <td>2019</td>\n",
              "      <td>cf</td>\n",
              "      <td>Male</td>\n",
              "      <td>nopre</td>\n",
              "      <td>type2</td>\n",
              "      <td>p3</td>\n",
              "      <td>l1</td>\n",
              "      <td>nopc</td>\n",
              "      <td>b/c</td>\n",
              "      <td>...</td>\n",
              "      <td>EQUI</td>\n",
              "      <td>880</td>\n",
              "      <td>EXP</td>\n",
              "      <td>35-44</td>\n",
              "      <td>to_inst</td>\n",
              "      <td>NaN</td>\n",
              "      <td>North</td>\n",
              "      <td>direct</td>\n",
              "      <td>1</td>\n",
              "      <td>NaN</td>\n",
              "    </tr>\n",
              "    <tr>\n",
              "      <th>3</th>\n",
              "      <td>25101</td>\n",
              "      <td>2019</td>\n",
              "      <td>cf</td>\n",
              "      <td>Male</td>\n",
              "      <td>nopre</td>\n",
              "      <td>type1</td>\n",
              "      <td>p4</td>\n",
              "      <td>l1</td>\n",
              "      <td>nopc</td>\n",
              "      <td>nob/c</td>\n",
              "      <td>...</td>\n",
              "      <td>EQUI</td>\n",
              "      <td>880</td>\n",
              "      <td>EXP</td>\n",
              "      <td>45-54</td>\n",
              "      <td>to_inst</td>\n",
              "      <td>NaN</td>\n",
              "      <td>central</td>\n",
              "      <td>direct</td>\n",
              "      <td>1</td>\n",
              "      <td>NaN</td>\n",
              "    </tr>\n",
              "    <tr>\n",
              "      <th>4</th>\n",
              "      <td>25110</td>\n",
              "      <td>2019</td>\n",
              "      <td>cf</td>\n",
              "      <td>Male</td>\n",
              "      <td>nopre</td>\n",
              "      <td>type3</td>\n",
              "      <td>p3</td>\n",
              "      <td>l1</td>\n",
              "      <td>nopc</td>\n",
              "      <td>nob/c</td>\n",
              "      <td>...</td>\n",
              "      <td>EQUI</td>\n",
              "      <td>768</td>\n",
              "      <td>EXP</td>\n",
              "      <td>45-54</td>\n",
              "      <td>not_inst</td>\n",
              "      <td>NaN</td>\n",
              "      <td>North</td>\n",
              "      <td>direct</td>\n",
              "      <td>1</td>\n",
              "      <td>NaN</td>\n",
              "    </tr>\n",
              "    <tr>\n",
              "      <th>...</th>\n",
              "      <td>...</td>\n",
              "      <td>...</td>\n",
              "      <td>...</td>\n",
              "      <td>...</td>\n",
              "      <td>...</td>\n",
              "      <td>...</td>\n",
              "      <td>...</td>\n",
              "      <td>...</td>\n",
              "      <td>...</td>\n",
              "      <td>...</td>\n",
              "      <td>...</td>\n",
              "      <td>...</td>\n",
              "      <td>...</td>\n",
              "      <td>...</td>\n",
              "      <td>...</td>\n",
              "      <td>...</td>\n",
              "      <td>...</td>\n",
              "      <td>...</td>\n",
              "      <td>...</td>\n",
              "      <td>...</td>\n",
              "      <td>...</td>\n",
              "    </tr>\n",
              "    <tr>\n",
              "      <th>148665</th>\n",
              "      <td>164194</td>\n",
              "      <td>2019</td>\n",
              "      <td>cf</td>\n",
              "      <td>Sex Not Available</td>\n",
              "      <td>nopre</td>\n",
              "      <td>type1</td>\n",
              "      <td>p4</td>\n",
              "      <td>l1</td>\n",
              "      <td>nopc</td>\n",
              "      <td>nob/c</td>\n",
              "      <td>...</td>\n",
              "      <td>CRIF</td>\n",
              "      <td>851</td>\n",
              "      <td>CIB</td>\n",
              "      <td>35-44</td>\n",
              "      <td>to_inst</td>\n",
              "      <td>57.593458</td>\n",
              "      <td>south</td>\n",
              "      <td>direct</td>\n",
              "      <td>0</td>\n",
              "      <td>45.0</td>\n",
              "    </tr>\n",
              "    <tr>\n",
              "      <th>148666</th>\n",
              "      <td>165831</td>\n",
              "      <td>2019</td>\n",
              "      <td>cf</td>\n",
              "      <td>Sex Not Available</td>\n",
              "      <td>nopre</td>\n",
              "      <td>type1</td>\n",
              "      <td>p3</td>\n",
              "      <td>l1</td>\n",
              "      <td>nopc</td>\n",
              "      <td>nob/c</td>\n",
              "      <td>...</td>\n",
              "      <td>CRIF</td>\n",
              "      <td>645</td>\n",
              "      <td>EXP</td>\n",
              "      <td>65-74</td>\n",
              "      <td>to_inst</td>\n",
              "      <td>57.593458</td>\n",
              "      <td>south</td>\n",
              "      <td>direct</td>\n",
              "      <td>0</td>\n",
              "      <td>36.0</td>\n",
              "    </tr>\n",
              "    <tr>\n",
              "      <th>148667</th>\n",
              "      <td>100880</td>\n",
              "      <td>2019</td>\n",
              "      <td>cf</td>\n",
              "      <td>Sex Not Available</td>\n",
              "      <td>nopre</td>\n",
              "      <td>type2</td>\n",
              "      <td>p3</td>\n",
              "      <td>l1</td>\n",
              "      <td>nopc</td>\n",
              "      <td>b/c</td>\n",
              "      <td>...</td>\n",
              "      <td>CIB</td>\n",
              "      <td>525</td>\n",
              "      <td>EXP</td>\n",
              "      <td>55-64</td>\n",
              "      <td>to_inst</td>\n",
              "      <td>92.725989</td>\n",
              "      <td>south</td>\n",
              "      <td>direct</td>\n",
              "      <td>1</td>\n",
              "      <td>44.0</td>\n",
              "    </tr>\n",
              "    <tr>\n",
              "      <th>148668</th>\n",
              "      <td>138588</td>\n",
              "      <td>2019</td>\n",
              "      <td>cf</td>\n",
              "      <td>Sex Not Available</td>\n",
              "      <td>nopre</td>\n",
              "      <td>type3</td>\n",
              "      <td>p4</td>\n",
              "      <td>l1</td>\n",
              "      <td>nopc</td>\n",
              "      <td>nob/c</td>\n",
              "      <td>...</td>\n",
              "      <td>EXP</td>\n",
              "      <td>798</td>\n",
              "      <td>CIB</td>\n",
              "      <td>45-54</td>\n",
              "      <td>to_inst</td>\n",
              "      <td>92.725989</td>\n",
              "      <td>south</td>\n",
              "      <td>direct</td>\n",
              "      <td>0</td>\n",
              "      <td>NaN</td>\n",
              "    </tr>\n",
              "    <tr>\n",
              "      <th>148669</th>\n",
              "      <td>157893</td>\n",
              "      <td>2019</td>\n",
              "      <td>ncf</td>\n",
              "      <td>Sex Not Available</td>\n",
              "      <td>pre</td>\n",
              "      <td>type1</td>\n",
              "      <td>p1</td>\n",
              "      <td>l1</td>\n",
              "      <td>nopc</td>\n",
              "      <td>nob/c</td>\n",
              "      <td>...</td>\n",
              "      <td>EXP</td>\n",
              "      <td>836</td>\n",
              "      <td>EXP</td>\n",
              "      <td>45-54</td>\n",
              "      <td>to_inst</td>\n",
              "      <td>64.950408</td>\n",
              "      <td>south</td>\n",
              "      <td>direct</td>\n",
              "      <td>1</td>\n",
              "      <td>43.0</td>\n",
              "    </tr>\n",
              "  </tbody>\n",
              "</table>\n",
              "<p>148670 rows × 34 columns</p>\n",
              "</div>"
            ],
            "text/plain": [
              "            ID  year loan_limit             Gender approv_in_adv loan_type  \\\n",
              "0        24891  2019         cf               Male         nopre     type2   \n",
              "1        24932  2019         cf               Male         nopre     type3   \n",
              "2        25039  2019         cf               Male         nopre     type2   \n",
              "3        25101  2019         cf               Male         nopre     type1   \n",
              "4        25110  2019         cf               Male         nopre     type3   \n",
              "...        ...   ...        ...                ...           ...       ...   \n",
              "148665  164194  2019         cf  Sex Not Available         nopre     type1   \n",
              "148666  165831  2019         cf  Sex Not Available         nopre     type1   \n",
              "148667  100880  2019         cf  Sex Not Available         nopre     type2   \n",
              "148668  138588  2019         cf  Sex Not Available         nopre     type3   \n",
              "148669  157893  2019        ncf  Sex Not Available           pre     type1   \n",
              "\n",
              "       loan_purpose Credit_Worthiness open_credit business_or_commercial  ...  \\\n",
              "0                p1                l1        nopc                    b/c  ...   \n",
              "1                p4                l1        nopc                  nob/c  ...   \n",
              "2                p3                l1        nopc                    b/c  ...   \n",
              "3                p4                l1        nopc                  nob/c  ...   \n",
              "4                p3                l1        nopc                  nob/c  ...   \n",
              "...             ...               ...         ...                    ...  ...   \n",
              "148665           p4                l1        nopc                  nob/c  ...   \n",
              "148666           p3                l1        nopc                  nob/c  ...   \n",
              "148667           p3                l1        nopc                    b/c  ...   \n",
              "148668           p4                l1        nopc                  nob/c  ...   \n",
              "148669           p1                l1        nopc                  nob/c  ...   \n",
              "\n",
              "        credit_type  Credit_Score  co_applicant_credit_type    age  \\\n",
              "0              EQUI           552                       EXP  55-64   \n",
              "1              EQUI           765                       EXP  45-54   \n",
              "2              EQUI           880                       EXP  35-44   \n",
              "3              EQUI           880                       EXP  45-54   \n",
              "4              EQUI           768                       EXP  45-54   \n",
              "...             ...           ...                       ...    ...   \n",
              "148665         CRIF           851                       CIB  35-44   \n",
              "148666         CRIF           645                       EXP  65-74   \n",
              "148667          CIB           525                       EXP  55-64   \n",
              "148668          EXP           798                       CIB  45-54   \n",
              "148669          EXP           836                       EXP  45-54   \n",
              "\n",
              "        submission_of_application        LTV   Region Security_Type  Status  \\\n",
              "0                         to_inst        NaN    North        direct       1   \n",
              "1                         to_inst        NaN    North        direct       1   \n",
              "2                         to_inst        NaN    North        direct       1   \n",
              "3                         to_inst        NaN  central        direct       1   \n",
              "4                        not_inst        NaN    North        direct       1   \n",
              "...                           ...        ...      ...           ...     ...   \n",
              "148665                    to_inst  57.593458    south        direct       0   \n",
              "148666                    to_inst  57.593458    south        direct       0   \n",
              "148667                    to_inst  92.725989    south        direct       1   \n",
              "148668                    to_inst  92.725989    south        direct       0   \n",
              "148669                    to_inst  64.950408    south        direct       1   \n",
              "\n",
              "       dtir1  \n",
              "0        NaN  \n",
              "1        NaN  \n",
              "2        NaN  \n",
              "3        NaN  \n",
              "4        NaN  \n",
              "...      ...  \n",
              "148665  45.0  \n",
              "148666  36.0  \n",
              "148667  44.0  \n",
              "148668   NaN  \n",
              "148669  43.0  \n",
              "\n",
              "[148670 rows x 34 columns]"
            ]
          },
          "execution_count": 74,
          "metadata": {},
          "output_type": "execute_result"
        }
      ],
      "source": [
        "df = pd.read_csv(\"loan_default.csv\")\n",
        "\n",
        "df"
      ]
    },
    {
      "cell_type": "code",
      "execution_count": 75,
      "metadata": {
        "colab": {
          "base_uri": "https://localhost:8080/"
        },
        "id": "NMJGI4mGArEw",
        "outputId": "13172486-3d42-4184-de30-76e145f247ba"
      },
      "outputs": [
        {
          "data": {
            "text/plain": [
              "Index(['ID', 'year', 'loan_limit', 'Gender', 'approv_in_adv', 'loan_type',\n",
              "       'loan_purpose', 'Credit_Worthiness', 'open_credit',\n",
              "       'business_or_commercial', 'loan_amount', 'rate_of_interest',\n",
              "       'Interest_rate_spread', 'Upfront_charges', 'term', 'Neg_ammortization',\n",
              "       'interest_only', 'lump_sum_payment', 'property_value',\n",
              "       'construction_type', 'occupancy_type', 'Secured_by', 'total_units',\n",
              "       'income', 'credit_type', 'Credit_Score', 'co_applicant_credit_type',\n",
              "       'age', 'submission_of_application', 'LTV', 'Region', 'Security_Type',\n",
              "       'Status', 'dtir1'],\n",
              "      dtype='object')"
            ]
          },
          "execution_count": 75,
          "metadata": {},
          "output_type": "execute_result"
        }
      ],
      "source": [
        "df.columns"
      ]
    },
    {
      "cell_type": "markdown",
      "metadata": {
        "id": "JJ6vVZnCArEy"
      },
      "source": [
        "Showing null data"
      ]
    },
    {
      "cell_type": "code",
      "execution_count": 76,
      "metadata": {
        "colab": {
          "base_uri": "https://localhost:8080/"
        },
        "id": "YcS5qcY3ArE0",
        "outputId": "bb456cb8-c819-4bbd-cf57-f15e834c5cf4"
      },
      "outputs": [
        {
          "data": {
            "text/plain": [
              "ID                               0\n",
              "year                             0\n",
              "loan_limit                    3344\n",
              "Gender                           0\n",
              "approv_in_adv                  908\n",
              "loan_type                        0\n",
              "loan_purpose                   134\n",
              "Credit_Worthiness                0\n",
              "open_credit                      0\n",
              "business_or_commercial           0\n",
              "loan_amount                      0\n",
              "rate_of_interest             36439\n",
              "Interest_rate_spread         36639\n",
              "Upfront_charges              39642\n",
              "term                            41\n",
              "Neg_ammortization              121\n",
              "interest_only                    0\n",
              "lump_sum_payment                 0\n",
              "property_value               15098\n",
              "construction_type                0\n",
              "occupancy_type                   0\n",
              "Secured_by                       0\n",
              "total_units                      0\n",
              "income                        9150\n",
              "credit_type                      0\n",
              "Credit_Score                     0\n",
              "co_applicant_credit_type         0\n",
              "age                            200\n",
              "submission_of_application      200\n",
              "LTV                          15098\n",
              "Region                           0\n",
              "Security_Type                    0\n",
              "Status                           0\n",
              "dtir1                        24121\n",
              "dtype: int64"
            ]
          },
          "execution_count": 76,
          "metadata": {},
          "output_type": "execute_result"
        }
      ],
      "source": [
        "# verificando quantidade de nulos\n",
        "df.isna().sum()"
      ]
    },
    {
      "cell_type": "code",
      "execution_count": 77,
      "metadata": {
        "colab": {
          "base_uri": "https://localhost:8080/",
          "height": 466
        },
        "id": "5pySd-WGDL8I",
        "outputId": "5c7c110b-eee7-4e16-b6de-0923ea892a25"
      },
      "outputs": [
        {
          "data": {
            "text/plain": [
              "<Axes: xlabel='Status', ylabel='Count'>"
            ]
          },
          "execution_count": 77,
          "metadata": {},
          "output_type": "execute_result"
        },
        {
          "data": {
            "image/png": "[encoded data removed]",
            "text/plain": [
              "<Figure size 640x480 with 1 Axes>"
            ]
          },
          "metadata": {},
          "output_type": "display_data"
        }
      ],
      "source": [
        "# Verificando distribuição da variavel target\n",
        "# 0 - adimplência, 1 - indimplencia\n",
        "sns.histplot(df['Status'])"
      ]
    },
    {
      "cell_type": "markdown",
      "metadata": {
        "id": "edJyw3UeG3ll"
      },
      "source": [
        "Analisando colunas que possuem nan"
      ]
    },
    {
      "cell_type": "code",
      "execution_count": 78,
      "metadata": {
        "colab": {
          "base_uri": "https://localhost:8080/"
        },
        "id": "uTLhffenFvwm",
        "outputId": "7bfda189-6b41-4bd1-fc5d-9a8fad3a49b2"
      },
      "outputs": [
        {
          "data": {
            "text/plain": [
              "array(['cf', 'ncf', nan], dtype=object)"
            ]
          },
          "execution_count": 78,
          "metadata": {},
          "output_type": "execute_result"
        }
      ],
      "source": [
        "df['loan_limit'].unique()"
      ]
    },
    {
      "cell_type": "code",
      "execution_count": 79,
      "metadata": {
        "colab": {
          "base_uri": "https://localhost:8080/"
        },
        "id": "wKCRMD0IGd2T",
        "outputId": "28710cf8-fea3-4b8d-dabc-8b5fe8da8e19"
      },
      "outputs": [
        {
          "data": {
            "text/plain": [
              "array(['nopre', 'pre', nan], dtype=object)"
            ]
          },
          "execution_count": 79,
          "metadata": {},
          "output_type": "execute_result"
        }
      ],
      "source": [
        "df['approv_in_adv'].unique()"
      ]
    },
    {
      "cell_type": "code",
      "execution_count": 80,
      "metadata": {
        "colab": {
          "base_uri": "https://localhost:8080/"
        },
        "id": "B-pI3uygHAoC",
        "outputId": "eaa28ab4-b37f-4a79-80f7-00c1d4a49ad7"
      },
      "outputs": [
        {
          "data": {
            "text/plain": [
              "array(['not_neg', 'neg_amm', nan], dtype=object)"
            ]
          },
          "execution_count": 80,
          "metadata": {},
          "output_type": "execute_result"
        }
      ],
      "source": [
        "df['Neg_ammortization'].unique()"
      ]
    },
    {
      "cell_type": "code",
      "execution_count": 81,
      "metadata": {
        "colab": {
          "base_uri": "https://localhost:8080/"
        },
        "id": "c3-q4hRKG_5e",
        "outputId": "cacbee0c-e0ca-4e06-8840-1735f9d94cc6"
      },
      "outputs": [
        {
          "data": {
            "text/plain": [
              "array(['to_inst', 'not_inst', nan], dtype=object)"
            ]
          },
          "execution_count": 81,
          "metadata": {},
          "output_type": "execute_result"
        }
      ],
      "source": [
        "df['submission_of_application'].unique()"
      ]
    },
    {
      "cell_type": "code",
      "execution_count": 82,
      "metadata": {
        "colab": {
          "base_uri": "https://localhost:8080/"
        },
        "id": "5IKBdPdCHAB7",
        "outputId": "6d6ef45f-1ad9-4cb0-e3f1-b6841c1f266f"
      },
      "outputs": [
        {
          "data": {
            "text/plain": [
              "array(['55-64', '45-54', '35-44', '>74', '25-34', '65-74', '<25', nan],\n",
              "      dtype=object)"
            ]
          },
          "execution_count": 82,
          "metadata": {},
          "output_type": "execute_result"
        }
      ],
      "source": [
        "df['age'].unique()"
      ]
    },
    {
      "cell_type": "code",
      "execution_count": 83,
      "metadata": {
        "colab": {
          "base_uri": "https://localhost:8080/"
        },
        "id": "LmhWhRnrFvox",
        "outputId": "68a33ffd-ef9c-4eb3-a459-c314182b4437"
      },
      "outputs": [
        {
          "data": {
            "text/plain": [
              "array(['p1', 'p4', 'p3', 'p2', nan], dtype=object)"
            ]
          },
          "execution_count": 83,
          "metadata": {},
          "output_type": "execute_result"
        }
      ],
      "source": [
        "df['loan_purpose'].unique()"
      ]
    },
    {
      "cell_type": "code",
      "execution_count": 84,
      "metadata": {
        "colab": {
          "base_uri": "https://localhost:8080/"
        },
        "id": "gJXRwT7kHBXH",
        "outputId": "fea34d53-ec60-4da4-878a-9d1ecaecd348"
      },
      "outputs": [
        {
          "data": {
            "text/plain": [
              "array([  nan, 3.5  , 4.25 , 2.75 , 2.875, 3.75 , 4.5  , 3.875, 4.125,\n",
              "       4.75 , 3.625, 5.25 , 5.125, 4.375, 3.375, 3.99 , 4.99 , 4.875,\n",
              "       4.   , 4.49 , 3.49 , 5.375, 3.125, 4.625, 3.25 , 4.56 , 2.99 ,\n",
              "       3.   , 3.69 , 3.56 , 5.99 , 5.5  , 5.875, 5.69 , 5.625, 5.19 ,\n",
              "       5.75 , 6.5  , 6.24 , 4.18 , 3.725, 6.25 , 3.8  , 4.05 , 5.   ,\n",
              "       3.425, 3.55 , 3.225, 3.975, 3.15 , 3.925, 4.95 , 6.   , 2.975,\n",
              "       5.74 , 3.4  , 3.175, 2.625, 6.125, 3.025, 4.44 , 4.3  , 3.1  ,\n",
              "       3.93 , 3.775, 2.25 , 3.575, 4.15 , 5.49 , 7.   , 3.325, 4.4  ,\n",
              "       2.6  , 3.3  , 3.675, 2.925, 3.35 , 3.525, 3.825, 3.05 , 8.   ,\n",
              "       6.75 , 2.725, 6.875, 4.225, 3.85 , 3.7  , 3.65 , 2.65 , 3.9  ,\n",
              "       4.175, 3.275, 2.7  , 2.675, 2.85 , 4.475, 2.5  , 2.9  , 2.375,\n",
              "       3.45 , 3.95 , 3.2  , 3.475, 2.775, 4.2  , 4.7  , 2.95 , 3.075,\n",
              "       3.6  , 4.075, 2.575, 4.425, 7.75 , 7.375, 4.35 , 2.475, 2.8  ,\n",
              "       2.125, 4.1  , 4.55 , 4.325, 4.82 , 4.025, 7.5  , 4.865, 6.375,\n",
              "       4.275, 3.74 , 7.125, 0.   , 4.525, 5.3  ])"
            ]
          },
          "execution_count": 84,
          "metadata": {},
          "output_type": "execute_result"
        }
      ],
      "source": [
        "df['rate_of_interest'].unique()"
      ]
    },
    {
      "cell_type": "code",
      "execution_count": 85,
      "metadata": {
        "colab": {
          "base_uri": "https://localhost:8080/"
        },
        "id": "W-y9BJBgHBOu",
        "outputId": "bf7bf4c5-91a7-4bc7-97e9-4f76b677d033"
      },
      "outputs": [
        {
          "data": {
            "text/plain": [
              "array([    nan, -0.2735, -0.1358, ...,  1.6276, -0.6781, -0.5163])"
            ]
          },
          "execution_count": 85,
          "metadata": {},
          "output_type": "execute_result"
        }
      ],
      "source": [
        "df['Interest_rate_spread'].unique()"
      ]
    },
    {
      "cell_type": "code",
      "execution_count": 86,
      "metadata": {
        "colab": {
          "base_uri": "https://localhost:8080/"
        },
        "id": "r47Jcs1wHA_K",
        "outputId": "af789986-0e26-49b7-c01f-23857e3b7f0b"
      },
      "outputs": [
        {
          "data": {
            "text/plain": [
              "array([    nan, 2931.19,    0.  , ..., 3427.25, 4661.38, 1190.05])"
            ]
          },
          "execution_count": 86,
          "metadata": {},
          "output_type": "execute_result"
        }
      ],
      "source": [
        "df['Upfront_charges'].unique()"
      ]
    },
    {
      "cell_type": "code",
      "execution_count": 87,
      "metadata": {
        "colab": {
          "base_uri": "https://localhost:8080/"
        },
        "id": "kmXBPJDhHA22",
        "outputId": "5ee3b63a-6b6f-491e-b086-3ac14a6b916d"
      },
      "outputs": [
        {
          "data": {
            "text/plain": [
              "array([360., 240., 324., 180., 144.,  nan, 156., 276., 300., 312., 120.,\n",
              "       216.,  96., 336., 108., 288., 192., 165., 348., 132., 204., 228.,\n",
              "       168., 264., 280., 252., 322.])"
            ]
          },
          "execution_count": 87,
          "metadata": {},
          "output_type": "execute_result"
        }
      ],
      "source": [
        "df['term'].unique()"
      ]
    },
    {
      "cell_type": "code",
      "execution_count": 88,
      "metadata": {
        "colab": {
          "base_uri": "https://localhost:8080/"
        },
        "id": "ACM0UmwAHAd4",
        "outputId": "faa368b1-2b35-4f4c-daa3-5af720d9db5a"
      },
      "outputs": [
        {
          "data": {
            "text/plain": [
              "array([       nan, 1.4080e+06, 4.4800e+05, 1.2800e+05, 6.0800e+05,\n",
              "       1.2480e+06, 2.2800e+05, 1.4800e+05, 6.8000e+04, 1.6480e+06,\n",
              "       6.8800e+05, 1.3280e+06, 1.0080e+06, 3.6800e+05, 4.8000e+04,\n",
              "       2.8800e+05, 1.6800e+05, 3.2800e+05, 4.8800e+05, 6.4800e+05,\n",
              "       7.6800e+05, 2.0800e+05, 5.2800e+05, 8.4800e+05, 9.2800e+05,\n",
              "       4.0800e+05, 5.6800e+05, 1.0880e+06, 4.6080e+06, 4.7800e+05,\n",
              "       5.0800e+05, 7.9800e+05, 3.8000e+04, 9.5800e+05, 6.2800e+05,\n",
              "       2.3580e+06, 2.5800e+05, 5.1800e+05, 8.3800e+05, 3.2080e+06,\n",
              "       7.5800e+05, 9.9800e+05, 3.8800e+05, 5.3800e+05, 1.9580e+06,\n",
              "       7.3800e+05, 1.0780e+06, 1.0480e+06, 3.1800e+05, 3.5800e+05,\n",
              "       1.0180e+06, 1.0280e+06, 2.6800e+05, 8.2800e+05, 2.8180e+06,\n",
              "       1.9180e+06, 6.7800e+05, 5.9800e+05, 3.0800e+05, 3.3080e+06,\n",
              "       2.4800e+05, 3.4280e+06, 6.9800e+05, 5.8800e+05, 1.6880e+06,\n",
              "       4.3800e+05, 9.4800e+05, 1.1780e+06, 2.7800e+05, 1.3580e+06,\n",
              "       8.0800e+05, 1.3480e+06, 1.3780e+06, 1.0800e+05, 2.9800e+05,\n",
              "       1.3380e+06, 1.2380e+06, 1.7800e+05, 8.8800e+05, 4.5800e+05,\n",
              "       1.8080e+06, 1.1180e+06, 9.0800e+05, 1.1080e+06, 1.2780e+06,\n",
              "       9.7800e+05, 1.4280e+06, 1.1580e+06, 8.7800e+05, 5.7800e+05,\n",
              "       1.7580e+06, 1.2080e+06, 5.4800e+05, 2.3280e+06, 2.0080e+06,\n",
              "       7.8800e+05, 7.7800e+05, 1.5580e+06, 9.6800e+05, 5.5800e+05,\n",
              "       5.0080e+06, 3.9800e+05, 1.6080e+06, 1.1480e+06, 1.0980e+06,\n",
              "       7.1800e+05, 2.3080e+06, 1.6680e+06, 1.0680e+06, 1.5080e+06,\n",
              "       2.4080e+06, 2.1980e+06, 6.1800e+05, 6.6800e+05, 8.9800e+05,\n",
              "       9.8000e+04, 6.5800e+05, 1.1680e+06, 8.6800e+05, 1.5800e+05,\n",
              "       3.7800e+05, 4.2800e+05, 4.1800e+05, 1.2580e+06, 9.1800e+05,\n",
              "       4.9800e+05, 3.0080e+06, 3.4800e+05, 8.5800e+05, 1.9800e+05,\n",
              "       4.6800e+05, 7.4800e+05, 1.3880e+06, 8.1800e+05, 1.5280e+06,\n",
              "       1.2680e+06, 1.8280e+06, 9.3800e+05, 6.3800e+05, 1.2880e+06,\n",
              "       1.5780e+06, 3.0680e+06, 1.4680e+06, 1.8800e+05, 1.3680e+06,\n",
              "       7.8000e+04, 7.2800e+05, 1.3080e+06, 2.1080e+06, 2.3800e+05,\n",
              "       1.4580e+06, 1.1880e+06, 1.5480e+06, 2.5080e+06, 1.3980e+06,\n",
              "       8.8000e+04, 4.4580e+06, 2.8080e+06, 9.8800e+05, 1.8580e+06,\n",
              "       1.1380e+06, 1.0580e+06, 4.5080e+06, 7.0800e+05, 1.7080e+06,\n",
              "       8.5080e+06, 2.1580e+06, 1.0380e+06, 4.4980e+06, 1.9980e+06,\n",
              "       3.3800e+05, 1.2280e+06, 1.2980e+06, 1.7380e+06, 4.4080e+06,\n",
              "       1.4880e+06, 1.3800e+05, 3.2580e+06, 1.4180e+06, 2.1800e+05,\n",
              "       1.6780e+06, 1.5880e+06, 1.1280e+06, 1.6280e+06, 1.8180e+06,\n",
              "       3.9080e+06, 2.2080e+06, 1.7280e+06, 1.9380e+06, 1.4780e+06,\n",
              "       1.6580e+06, 1.1800e+05, 1.4380e+06, 3.3280e+06, 1.1980e+06,\n",
              "       2.3780e+06, 2.0580e+06, 2.6780e+06, 2.6080e+06, 5.8000e+04,\n",
              "       2.9080e+06, 1.4980e+06, 1.6980e+06, 2.8000e+04, 3.8580e+06,\n",
              "       5.8080e+06, 3.4080e+06, 1.5380e+06, 1.3180e+06, 1.9480e+06,\n",
              "       1.9080e+06, 1.7880e+06, 2.1380e+06, 3.2280e+06, 3.5080e+06,\n",
              "       2.1280e+06, 3.0980e+06, 2.1780e+06, 2.7080e+06, 2.1180e+06,\n",
              "       4.8780e+06, 1.8780e+06, 2.3880e+06, 3.5780e+06, 2.7180e+06,\n",
              "       1.9780e+06, 6.0580e+06, 1.2180e+06, 2.0380e+06, 1.6180e+06,\n",
              "       1.8680e+06, 3.1580e+06, 4.2080e+06, 5.2080e+06, 1.7980e+06,\n",
              "       2.7580e+06, 5.2580e+06, 1.8880e+06, 2.0480e+06, 1.5680e+06,\n",
              "       1.4480e+06, 3.7280e+06, 1.8980e+06, 1.5980e+06, 2.0980e+06,\n",
              "       4.0080e+06, 1.5180e+06, 3.1680e+06, 4.6580e+06, 4.6480e+06,\n",
              "       3.4880e+06, 3.2980e+06, 1.7480e+06, 2.6280e+06, 3.1080e+06,\n",
              "       2.2280e+06, 5.3080e+06, 1.7680e+06, 1.9680e+06, 2.5580e+06,\n",
              "       3.8080e+06, 2.2580e+06, 2.8280e+06, 2.9580e+06, 4.0880e+06,\n",
              "       2.0780e+06, 5.0580e+06, 4.0580e+06, 1.7180e+06, 2.5480e+06,\n",
              "       1.9880e+06, 1.7780e+06, 2.8980e+06, 1.8380e+06, 2.4880e+06,\n",
              "       2.6880e+06, 2.4780e+06, 2.6580e+06, 2.4580e+06, 2.0280e+06,\n",
              "       2.3680e+06, 3.0180e+06, 3.0580e+06, 2.5880e+06, 3.6080e+06,\n",
              "       2.5680e+06, 2.2980e+06, 3.1280e+06, 2.8580e+06, 6.9080e+06,\n",
              "       2.0680e+06, 1.6380e+06, 8.0000e+03, 3.7680e+06, 2.5980e+06,\n",
              "       2.7780e+06, 3.0380e+06, 4.4380e+06, 2.6680e+06, 2.3380e+06,\n",
              "       2.8380e+06, 3.4580e+06, 4.7780e+06, 4.2180e+06, 3.5580e+06,\n",
              "       2.0880e+06, 2.7680e+06, 4.1080e+06, 2.3980e+06, 2.4280e+06,\n",
              "       3.6880e+06, 3.6580e+06, 4.4280e+06, 1.9280e+06, 2.4480e+06,\n",
              "       3.1980e+06, 6.4080e+06, 3.2680e+06, 2.2180e+06, 1.6508e+07,\n",
              "       2.2380e+06, 2.1480e+06, 2.9380e+06, 2.4180e+06, 3.2180e+06,\n",
              "       4.1580e+06, 4.2580e+06, 2.5280e+06, 2.0180e+06, 9.2680e+06,\n",
              "       2.2680e+06, 3.2780e+06, 6.2080e+06, 3.7780e+06, 3.5680e+06,\n",
              "       4.5580e+06, 2.5780e+06, 3.0880e+06, 4.9080e+06, 2.3180e+06,\n",
              "       1.1008e+07, 2.6180e+06, 1.2008e+07, 3.8780e+06, 2.2780e+06,\n",
              "       1.8480e+06, 2.6980e+06, 2.9680e+06, 3.9680e+06, 2.7880e+06,\n",
              "       2.8780e+06, 2.7280e+06, 2.5380e+06, 2.8880e+06, 2.9280e+06,\n",
              "       4.3580e+06, 4.9180e+06, 3.6780e+06, 3.8180e+06, 2.4680e+06,\n",
              "       3.1780e+06, 3.0280e+06, 2.9480e+06, 2.4380e+06, 6.1080e+06,\n",
              "       2.6380e+06, 2.5180e+06, 5.5080e+06, 2.8480e+06, 3.7080e+06,\n",
              "       3.8480e+06, 3.3680e+06, 4.2880e+06, 7.6080e+06, 3.7880e+06,\n",
              "       3.3780e+06, 6.5080e+06, 5.7580e+06, 4.4480e+06, 4.7580e+06,\n",
              "       2.1880e+06, 1.0008e+07, 3.0780e+06, 2.4980e+06, 2.3480e+06,\n",
              "       1.8000e+04])"
            ]
          },
          "execution_count": 88,
          "metadata": {},
          "output_type": "execute_result"
        }
      ],
      "source": [
        "df['property_value'].unique()"
      ]
    },
    {
      "cell_type": "code",
      "execution_count": 89,
      "metadata": {
        "colab": {
          "base_uri": "https://localhost:8080/"
        },
        "id": "7VQ1WLYYHAFd",
        "outputId": "442aee9c-571d-4d76-9275-7c9c81228e9b"
      },
      "outputs": [
        {
          "data": {
            "text/plain": [
              "array([ 4980.,     0.,  8640., ..., 58140., 54180., 86340.])"
            ]
          },
          "execution_count": 89,
          "metadata": {},
          "output_type": "execute_result"
        }
      ],
      "source": [
        "df['income'].unique()"
      ]
    },
    {
      "cell_type": "code",
      "execution_count": 90,
      "metadata": {
        "colab": {
          "base_uri": "https://localhost:8080/"
        },
        "id": "WkKmOoO-G_2T",
        "outputId": "393a2405-dfc4-4fc8-f533-1070a2ea69ac"
      },
      "outputs": [
        {
          "data": {
            "text/plain": [
              "array([        nan, 48.046875  , 46.09375   , ..., 22.46328438,\n",
              "       54.87435009, 64.9504084 ])"
            ]
          },
          "execution_count": 90,
          "metadata": {},
          "output_type": "execute_result"
        }
      ],
      "source": [
        "df['LTV'].unique()"
      ]
    },
    {
      "cell_type": "code",
      "execution_count": 91,
      "metadata": {
        "colab": {
          "base_uri": "https://localhost:8080/"
        },
        "id": "YqSzKXjrG_zQ",
        "outputId": "b7d2ed5a-cf70-45f0-d787-1b625ca0b38d"
      },
      "outputs": [
        {
          "data": {
            "text/plain": [
              "array([nan, 18., 20., 42., 37., 23., 31., 35., 44., 45., 46., 36.,  7.,\n",
              "       43., 30., 54., 28., 49.,  9., 48., 41., 50., 40., 27., 39., 47.,\n",
              "       38., 55.,  8., 12., 25., 34., 21., 56., 26.,  5., 33., 22., 32.,\n",
              "       15., 24., 51., 13., 11., 53., 52., 59., 10., 29., 19., 61., 58.,\n",
              "       60.,  6., 17., 57., 14., 16.])"
            ]
          },
          "execution_count": 91,
          "metadata": {},
          "output_type": "execute_result"
        }
      ],
      "source": [
        "df['dtir1'].unique()"
      ]
    },
    {
      "cell_type": "code",
      "execution_count": 92,
      "metadata": {
        "colab": {
          "base_uri": "https://localhost:8080/"
        },
        "id": "hrqZdFLYjeSe",
        "outputId": "c75a22cb-7401-46dd-a1c0-e5f25d3a65c5"
      },
      "outputs": [
        {
          "name": "stdout",
          "output_type": "stream",
          "text": [
            "<class 'pandas.core.frame.DataFrame'>\n",
            "RangeIndex: 148670 entries, 0 to 148669\n",
            "Data columns (total 34 columns):\n",
            " #   Column                     Non-Null Count   Dtype  \n",
            "---  ------                     --------------   -----  \n",
            " 0   ID                         148670 non-null  int64  \n",
            " 1   year                       148670 non-null  int64  \n",
            " 2   loan_limit                 145326 non-null  object \n",
            " 3   Gender                     148670 non-null  object \n",
            " 4   approv_in_adv              147762 non-null  object \n",
            " 5   loan_type                  148670 non-null  object \n",
            " 6   loan_purpose               148536 non-null  object \n",
            " 7   Credit_Worthiness          148670 non-null  object \n",
            " 8   open_credit                148670 non-null  object \n",
            " 9   business_or_commercial     148670 non-null  object \n",
            " 10  loan_amount                148670 non-null  int64  \n",
            " 11  rate_of_interest           112231 non-null  float64\n",
            " 12  Interest_rate_spread       112031 non-null  float64\n",
            " 13  Upfront_charges            109028 non-null  float64\n",
            " 14  term                       148629 non-null  float64\n",
            " 15  Neg_ammortization          148549 non-null  object \n",
            " 16  interest_only              148670 non-null  object \n",
            " 17  lump_sum_payment           148670 non-null  object \n",
            " 18  property_value             133572 non-null  float64\n",
            " 19  construction_type          148670 non-null  object \n",
            " 20  occupancy_type             148670 non-null  object \n",
            " 21  Secured_by                 148670 non-null  object \n",
            " 22  total_units                148670 non-null  object \n",
            " 23  income                     139520 non-null  float64\n",
            " 24  credit_type                148670 non-null  object \n",
            " 25  Credit_Score               148670 non-null  int64  \n",
            " 26  co_applicant_credit_type   148670 non-null  object \n",
            " 27  age                        148470 non-null  object \n",
            " 28  submission_of_application  148470 non-null  object \n",
            " 29  LTV                        133572 non-null  float64\n",
            " 30  Region                     148670 non-null  object \n",
            " 31  Security_Type              148670 non-null  object \n",
            " 32  Status                     148670 non-null  int64  \n",
            " 33  dtir1                      124549 non-null  float64\n",
            "dtypes: float64(8), int64(5), object(21)\n",
            "memory usage: 38.6+ MB\n"
          ]
        }
      ],
      "source": [
        "df.info()"
      ]
    },
    {
      "cell_type": "markdown",
      "metadata": {},
      "source": [
        "# Pipeline"
      ]
    },
    {
      "cell_type": "code",
      "execution_count": 93,
      "metadata": {},
      "outputs": [],
      "source": [
        "categorical_features  = ['loan_limit', 'Gender', 'approv_in_adv', 'loan_type', 'loan_purpose', 'Credit_Worthiness', 'open_credit', 'business_or_commercial', 'Neg_ammortization','interest_only', 'lump_sum_payment', 'construction_type', 'occupancy_type', 'Secured_by', 'total_units', 'credit_type', 'co_applicant_credit_type', 'age', 'submission_of_application', 'Region', 'Security_Type']\n",
        "numerical_features = ['loan_amount', 'rate_of_interest', 'Interest_rate_spread', 'Upfront_charges', 'term', 'property_value', 'income', 'Credit_Score', 'LTV', 'dtir1']"
      ]
    },
    {
      "cell_type": "markdown",
      "metadata": {
        "id": "CfSnmQVrIli_"
      },
      "source": [
        "## Tratando a Base de dados para treinar o modelo"
      ]
    },
    {
      "cell_type": "code",
      "execution_count": 94,
      "metadata": {
        "id": "sf0TAQCzZ6cS"
      },
      "outputs": [],
      "source": [
        "# Apagando colunas que não possuem dados relevantes para o modelo\n",
        "df = df.drop(columns=['ID', 'year'], axis=1)"
      ]
    },
    {
      "cell_type": "code",
      "execution_count": 95,
      "metadata": {
        "id": "Eu37PMPgLoiR"
      },
      "outputs": [],
      "source": [
        "# Transformado colunas categoricas em dummies\n",
        "numerical_transformer = Pipeline(\n",
        "    steps=[\n",
        "        ('imputer', SimpleImputer(strategy='median')),\n",
        "        ('scaler', StandardScaler())\n",
        "    ]\n",
        ")\n",
        "\n",
        "categorical_transformer = Pipeline(\n",
        "    steps=[\n",
        "        ('imputer', SimpleImputer(strategy='most_frequent')),\n",
        "        ('oneHot', OneHotEncoder(handle_unknown='ignore'))\n",
        "    ]\n",
        ")"
      ]
    },
    {
      "cell_type": "code",
      "execution_count": 96,
      "metadata": {},
      "outputs": [],
      "source": [
        "preprocessor = ColumnTransformer(\n",
        "    transformers=[\n",
        "        ('numerical', numerical_transformer, numerical_features),\n",
        "        ('categorical', categorical_transformer, categorical_features)\n",
        "    ]\n",
        ")"
      ]
    },
    {
      "cell_type": "code",
      "execution_count": 97,
      "metadata": {},
      "outputs": [],
      "source": [
        "model = Pipeline(\n",
        "    steps=[\n",
        "        ('preprocessor', preprocessor),\n",
        "        ('logistic-regression', LogisticRegression(max_iter=1000))\n",
        "    ]\n",
        ")"
      ]
    },
    {
      "cell_type": "markdown",
      "metadata": {
        "id": "efw5sVRdqiEA"
      },
      "source": [
        "## 3.\tModelo de propensão de inadimplência:"
      ]
    },
    {
      "cell_type": "code",
      "execution_count": 98,
      "metadata": {
        "colab": {
          "base_uri": "https://localhost:8080/"
        },
        "id": "AtocHB0IyhdA",
        "outputId": "6e6b691e-ba37-4238-c4db-1ac0ce9d2267"
      },
      "outputs": [
        {
          "name": "stdout",
          "output_type": "stream",
          "text": [
            "Avaliação de Desempenho:\n",
            "              precision    recall  f1-score   support\n",
            "\n",
            "           0       0.86      0.99      0.92     22430\n",
            "           1       0.92      0.51      0.66      7304\n",
            "\n",
            "    accuracy                           0.87     29734\n",
            "   macro avg       0.89      0.75      0.79     29734\n",
            "weighted avg       0.88      0.87      0.86     29734\n",
            "\n"
          ]
        }
      ],
      "source": [
        "# Treinando o modelo com as variáveis selecionadas\n",
        "\n",
        "y = df['Status']\n",
        "X = df.drop(['Status'], axis='columns')\n",
        "\n",
        "X_train, X_test, y_train, y_test = train_test_split(X, y, test_size=0.2, random_state=42)\n",
        "\n",
        "model.fit(X_train, y_train)\n",
        "\n",
        "y_pred_labels = model.predict(X_test)\n",
        "\n",
        "# # Avaliação de desempenho\n",
        "print(\"Avaliação de Desempenho:\")\n",
        "print(classification_report(y_test, y_pred_labels))"
      ]
    },
    {
      "cell_type": "code",
      "execution_count": 116,
      "metadata": {},
      "outputs": [],
      "source": [
        "x = X.dropna()\n",
        "\n",
        "a = x.head(1)"
      ]
    },
    {
      "cell_type": "code",
      "execution_count": 117,
      "metadata": {},
      "outputs": [
        {
          "data": {
            "text/html": [
              "<div>\n",
              "<style scoped>\n",
              "    .dataframe tbody tr th:only-of-type {\n",
              "        vertical-align: middle;\n",
              "    }\n",
              "\n",
              "    .dataframe tbody tr th {\n",
              "        vertical-align: top;\n",
              "    }\n",
              "\n",
              "    .dataframe thead th {\n",
              "        text-align: right;\n",
              "    }\n",
              "</style>\n",
              "<table border=\"1\" class=\"dataframe\">\n",
              "  <thead>\n",
              "    <tr style=\"text-align: right;\">\n",
              "      <th></th>\n",
              "      <th>loan_limit</th>\n",
              "      <th>Gender</th>\n",
              "      <th>approv_in_adv</th>\n",
              "      <th>loan_type</th>\n",
              "      <th>loan_purpose</th>\n",
              "      <th>Credit_Worthiness</th>\n",
              "      <th>open_credit</th>\n",
              "      <th>business_or_commercial</th>\n",
              "      <th>loan_amount</th>\n",
              "      <th>rate_of_interest</th>\n",
              "      <th>...</th>\n",
              "      <th>income</th>\n",
              "      <th>credit_type</th>\n",
              "      <th>Credit_Score</th>\n",
              "      <th>co_applicant_credit_type</th>\n",
              "      <th>age</th>\n",
              "      <th>submission_of_application</th>\n",
              "      <th>LTV</th>\n",
              "      <th>Region</th>\n",
              "      <th>Security_Type</th>\n",
              "      <th>dtir1</th>\n",
              "    </tr>\n",
              "  </thead>\n",
              "  <tbody>\n",
              "    <tr>\n",
              "      <th>4499</th>\n",
              "      <td>ncf</td>\n",
              "      <td>Male</td>\n",
              "      <td>nopre</td>\n",
              "      <td>type1</td>\n",
              "      <td>p4</td>\n",
              "      <td>l1</td>\n",
              "      <td>nopc</td>\n",
              "      <td>nob/c</td>\n",
              "      <td>676500</td>\n",
              "      <td>3.5</td>\n",
              "      <td>...</td>\n",
              "      <td>16680.0</td>\n",
              "      <td>CIB</td>\n",
              "      <td>792</td>\n",
              "      <td>CIB</td>\n",
              "      <td>45-54</td>\n",
              "      <td>to_inst</td>\n",
              "      <td>48.046875</td>\n",
              "      <td>North</td>\n",
              "      <td>direct</td>\n",
              "      <td>20.0</td>\n",
              "    </tr>\n",
              "  </tbody>\n",
              "</table>\n",
              "<p>1 rows × 31 columns</p>\n",
              "</div>"
            ],
            "text/plain": [
              "     loan_limit Gender approv_in_adv loan_type loan_purpose Credit_Worthiness  \\\n",
              "4499        ncf   Male         nopre     type1           p4                l1   \n",
              "\n",
              "     open_credit business_or_commercial  loan_amount  rate_of_interest  ...  \\\n",
              "4499        nopc                  nob/c       676500               3.5  ...   \n",
              "\n",
              "       income  credit_type  Credit_Score co_applicant_credit_type    age  \\\n",
              "4499  16680.0          CIB           792                      CIB  45-54   \n",
              "\n",
              "     submission_of_application        LTV Region Security_Type dtir1  \n",
              "4499                   to_inst  48.046875  North        direct  20.0  \n",
              "\n",
              "[1 rows x 31 columns]"
            ]
          },
          "execution_count": 117,
          "metadata": {},
          "output_type": "execute_result"
        }
      ],
      "source": [
        "a"
      ]
    },
    {
      "cell_type": "code",
      "execution_count": 131,
      "metadata": {},
      "outputs": [
        {
          "name": "stdout",
          "output_type": "stream",
          "text": [
            "{loan_limit: 'ncf',Gender: 'Male',approv_in_adv: 'nopre',loan_type: 'type1',loan_purpose: 'p4',Credit_Worthiness: 'l1',open_credit: 'nopc',business_or_commercial: 'nob/c',loan_amount: '676500',rate_of_interest: '3.5',Interest_rate_spread: '-0.2735',Upfront_charges: '2931.19',term: '360.0',Neg_ammortization: 'not_neg',interest_only: 'not_int',lump_sum_payment: 'not_lpsm',property_value: '1408000.0',construction_type: 'sb',occupancy_type: 'pr',Secured_by: 'home',total_units: '1U',income: '16680.0',credit_type: 'CIB',Credit_Score: '792',co_applicant_credit_type: 'CIB',age: '45-54',submission_of_application: 'to_inst',LTV: '48.046875',Region: 'North',Security_Type: 'direct',dtir1: '20.0',}\n"
          ]
        }
      ],
      "source": [
        "strg = \"{\"\n",
        "for column in a.columns:\n",
        "    \n",
        "\n",
        "    value = a[column]\n",
        "\n",
        "    strg += f\"\"\"{column}: '{value.to_dict()[4499]}',\"\"\"\n",
        "\n",
        "strg += \"}\"\n",
        "print(strg)"
      ]
    },
    {
      "cell_type": "code",
      "execution_count": null,
      "metadata": {},
      "outputs": [
        {
          "data": {
            "text/plain": [
              "['variable.joblib']"
            ]
          },
          "execution_count": 28,
          "metadata": {},
          "output_type": "execute_result"
        }
      ],
      "source": [
        "joblib.dump(a, 'variable.joblib')"
      ]
    },
    {
      "cell_type": "code",
      "execution_count": null,
      "metadata": {
        "colab": {
          "base_uri": "https://localhost:8080/"
        },
        "id": "X_TIxEOp1twZ",
        "outputId": "6b6baa3b-39e7-4242-bcb4-fe173ec752f4"
      },
      "outputs": [
        {
          "data": {
            "text/plain": [
              "['propensao_inadimplencia_classification.joblib']"
            ]
          },
          "execution_count": 29,
          "metadata": {},
          "output_type": "execute_result"
        }
      ],
      "source": [
        "joblib.dump(model, 'propensao_inadimplencia_classification.joblib')"
      ]
    },
    {
      "cell_type": "code",
      "execution_count": null,
      "metadata": {
        "id": "9puVBs6a2SmX"
      },
      "outputs": [],
      "source": []
    }
  ],
  "metadata": {
    "colab": {
      "provenance": []
    },
    "kernelspec": {
      "display_name": "Python 3",
      "name": "python3"
    },
    "language_info": {
      "codemirror_mode": {
        "name": "ipython",
        "version": 3
      },
      "file_extension": ".py",
      "mimetype": "text/x-python",
      "name": "python",
      "nbconvert_exporter": "python",
      "pygments_lexer": "ipython3",
      "version": "3.12.1"
    }
  },
  "nbformat": 4,
  "nbformat_minor": 0
}
